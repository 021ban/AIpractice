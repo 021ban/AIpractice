{
 "cells": [
  {
   "cell_type": "code",
   "execution_count": 7,
   "id": "195ab37f-41f9-42fb-b0a1-6b50470bc610",
   "metadata": {},
   "outputs": [
    {
     "name": "stdout",
     "output_type": "stream",
     "text": [
      "[0 1]\n",
      "[1 3]\n",
      "[2 3]\n",
      "[5 7]\n"
     ]
    }
   ],
   "source": [
    "import keras\n",
    "import numpy as np\n",
    "#2개의 데이터만 써서 연습을 해보자.\n",
    "x_train = np.array([0,1])\n",
    "y_train = x_train*2 + 1\n",
    "#트레이닝 값. x 값은 0,1. y=2x+1\n",
    "print(x_train)\n",
    "print(y_train)\n",
    "#[0,1], [1,3]나옴.\n",
    "x_test=np.array([2,3])\n",
    "y_test=x_test*2+1\n",
    "#테스트 값\n",
    "print(x_test)\n",
    "print(y_test)\n",
    "#functional, Sequential 모두 동일 코드 사용\n"
   ]
  },
  {
   "cell_type": "code",
   "execution_count": 9,
   "id": "981360e7-e604-4c4d-ad66-7c43c4079fb8",
   "metadata": {},
   "outputs": [
    {
     "name": "stderr",
     "output_type": "stream",
     "text": [
      "C:\\Users\\hi\\anaconda3\\Lib\\site-packages\\keras\\src\\layers\\core\\dense.py:87: UserWarning: Do not pass an `input_shape`/`input_dim` argument to a layer. When using Sequential models, prefer using an `Input(shape)` object as the first layer in the model instead.\n",
      "  super().__init__(activity_regularizer=activity_regularizer, **kwargs)\n"
     ]
    }
   ],
   "source": [
    "#Sequential 방식!! functional과 같이 실행하지 말자.\n",
    "model = keras.models.Sequential()\n",
    "#keras에서 sequential 모델 생성. model.add로 층을 하나씩 추가할 수 있음.\n",
    "model.add(keras.layers.Dense(2, input_shape=(1,)))\n",
    "#노드 2개짜리 완견연결 레이어. 1개의 입력을 받아서 노드 2개의 은닉층에 넣음.\n",
    "model.add(keras.layers.Dense(1))\n",
    "#2층 신경망. 한개의 출력을 내보냄.\n",
    "\n"
   ]
  },
  {
   "cell_type": "code",
   "execution_count": null,
   "id": "7dc4e6f3-3934-4421-b248-b239ae70516f",
   "metadata": {},
   "outputs": [],
   "source": [
    "#Functional 방식!! Sequential과 겹치게 하지 말자.\n",
    "x = keras.layers.Input( shape=(1,) )\n",
    "#입력 레이어를 만듬. shape로 1개의 입력을 받음을 알려줌.\n",
    "h = keras.layers.Dense(2)(x)\n",
    "#은닉층. 2개짜리 완결연결 레이어 생성해 입력 레이어에 연결\n",
    "y = keras.layers.Dense(1)(h)\n",
    "#출력층. 출력 뉴런은 1개.\n",
    "model = keras.models.Model(x,y)\n",
    "#입력과 출력을 x,y로 지정해서 모델 정의"
   ]
  },
  {
   "cell_type": "code",
   "execution_count": 11,
   "id": "a83c9bc1-4880-4fe1-b1a7-b7e2d078e9ca",
   "metadata": {},
   "outputs": [
    {
     "data": {
      "text/html": [
       "<pre style=\"white-space:pre;overflow-x:auto;line-height:normal;font-family:Menlo,'DejaVu Sans Mono',consolas,'Courier New',monospace\"><span style=\"font-weight: bold\">Model: \"sequential\"</span>\n",
       "</pre>\n"
      ],
      "text/plain": [
       "\u001b[1mModel: \"sequential\"\u001b[0m\n"
      ]
     },
     "metadata": {},
     "output_type": "display_data"
    },
    {
     "data": {
      "text/html": [
       "<pre style=\"white-space:pre;overflow-x:auto;line-height:normal;font-family:Menlo,'DejaVu Sans Mono',consolas,'Courier New',monospace\">┏━━━━━━━━━━━━━━━━━━━━━━━━━━━━━━━━━━━━━━┳━━━━━━━━━━━━━━━━━━━━━━━━━━━━━┳━━━━━━━━━━━━━━━━━┓\n",
       "┃<span style=\"font-weight: bold\"> Layer (type)                         </span>┃<span style=\"font-weight: bold\"> Output Shape                </span>┃<span style=\"font-weight: bold\">         Param # </span>┃\n",
       "┡━━━━━━━━━━━━━━━━━━━━━━━━━━━━━━━━━━━━━━╇━━━━━━━━━━━━━━━━━━━━━━━━━━━━━╇━━━━━━━━━━━━━━━━━┩\n",
       "│ dense (<span style=\"color: #0087ff; text-decoration-color: #0087ff\">Dense</span>)                        │ (<span style=\"color: #00d7ff; text-decoration-color: #00d7ff\">None</span>, <span style=\"color: #00af00; text-decoration-color: #00af00\">2</span>)                   │               <span style=\"color: #00af00; text-decoration-color: #00af00\">4</span> │\n",
       "├──────────────────────────────────────┼─────────────────────────────┼─────────────────┤\n",
       "│ dense_1 (<span style=\"color: #0087ff; text-decoration-color: #0087ff\">Dense</span>)                      │ (<span style=\"color: #00d7ff; text-decoration-color: #00d7ff\">None</span>, <span style=\"color: #00af00; text-decoration-color: #00af00\">1</span>)                   │               <span style=\"color: #00af00; text-decoration-color: #00af00\">3</span> │\n",
       "└──────────────────────────────────────┴─────────────────────────────┴─────────────────┘\n",
       "</pre>\n"
      ],
      "text/plain": [
       "┏━━━━━━━━━━━━━━━━━━━━━━━━━━━━━━━━━━━━━━┳━━━━━━━━━━━━━━━━━━━━━━━━━━━━━┳━━━━━━━━━━━━━━━━━┓\n",
       "┃\u001b[1m \u001b[0m\u001b[1mLayer (type)                        \u001b[0m\u001b[1m \u001b[0m┃\u001b[1m \u001b[0m\u001b[1mOutput Shape               \u001b[0m\u001b[1m \u001b[0m┃\u001b[1m \u001b[0m\u001b[1m        Param #\u001b[0m\u001b[1m \u001b[0m┃\n",
       "┡━━━━━━━━━━━━━━━━━━━━━━━━━━━━━━━━━━━━━━╇━━━━━━━━━━━━━━━━━━━━━━━━━━━━━╇━━━━━━━━━━━━━━━━━┩\n",
       "│ dense (\u001b[38;5;33mDense\u001b[0m)                        │ (\u001b[38;5;45mNone\u001b[0m, \u001b[38;5;34m2\u001b[0m)                   │               \u001b[38;5;34m4\u001b[0m │\n",
       "├──────────────────────────────────────┼─────────────────────────────┼─────────────────┤\n",
       "│ dense_1 (\u001b[38;5;33mDense\u001b[0m)                      │ (\u001b[38;5;45mNone\u001b[0m, \u001b[38;5;34m1\u001b[0m)                   │               \u001b[38;5;34m3\u001b[0m │\n",
       "└──────────────────────────────────────┴─────────────────────────────┴─────────────────┘\n"
      ]
     },
     "metadata": {},
     "output_type": "display_data"
    },
    {
     "data": {
      "text/html": [
       "<pre style=\"white-space:pre;overflow-x:auto;line-height:normal;font-family:Menlo,'DejaVu Sans Mono',consolas,'Courier New',monospace\"><span style=\"font-weight: bold\"> Total params: </span><span style=\"color: #00af00; text-decoration-color: #00af00\">7</span> (28.00 B)\n",
       "</pre>\n"
      ],
      "text/plain": [
       "\u001b[1m Total params: \u001b[0m\u001b[38;5;34m7\u001b[0m (28.00 B)\n"
      ]
     },
     "metadata": {},
     "output_type": "display_data"
    },
    {
     "data": {
      "text/html": [
       "<pre style=\"white-space:pre;overflow-x:auto;line-height:normal;font-family:Menlo,'DejaVu Sans Mono',consolas,'Courier New',monospace\"><span style=\"font-weight: bold\"> Trainable params: </span><span style=\"color: #00af00; text-decoration-color: #00af00\">7</span> (28.00 B)\n",
       "</pre>\n"
      ],
      "text/plain": [
       "\u001b[1m Trainable params: \u001b[0m\u001b[38;5;34m7\u001b[0m (28.00 B)\n"
      ]
     },
     "metadata": {},
     "output_type": "display_data"
    },
    {
     "data": {
      "text/html": [
       "<pre style=\"white-space:pre;overflow-x:auto;line-height:normal;font-family:Menlo,'DejaVu Sans Mono',consolas,'Courier New',monospace\"><span style=\"font-weight: bold\"> Non-trainable params: </span><span style=\"color: #00af00; text-decoration-color: #00af00\">0</span> (0.00 B)\n",
       "</pre>\n"
      ],
      "text/plain": [
       "\u001b[1m Non-trainable params: \u001b[0m\u001b[38;5;34m0\u001b[0m (0.00 B)\n"
      ]
     },
     "metadata": {},
     "output_type": "display_data"
    },
    {
     "name": "stdout",
     "output_type": "stream",
     "text": [
      "\u001b[1m1/1\u001b[0m \u001b[32m━━━━━━━━━━━━━━━━━━━━\u001b[0m\u001b[37m\u001b[0m \u001b[1m0s\u001b[0m 45ms/step\n",
      "[4.999903  6.9998317]\n",
      "[5 7]\n"
     ]
    }
   ],
   "source": [
    "#Sequential과 Functional 동일\n",
    "model.summary()\n",
    "#모델의 구조를 표로 보여줌.\n",
    "model.compile( 'SGD', 'mse' ) \n",
    "#학습 설정을 지정. optimizer로 SGD, 손실함수로 MSE를 사용함.\n",
    "model.fit( x_train, y_train, epochs = 1000, verbose = 0 )\n",
    "#모델 학습. 1000번에 걸쳐 학습함. verbose =1로 하면 난장판됨.\n",
    "#학습에 상당한 시간이 걸림.\n",
    "y_predict = model.predict( x_test )\n",
    "#테스트 데이터의 예측값 계산\n",
    "print( y_predict.flatten() ) \n",
    "#예측값 배열을 1차원으로 펴서 출력함.\n",
    "print( y_test )\n",
    "#정답 출력"
   ]
  },
  {
   "cell_type": "code",
   "execution_count": null,
   "id": "cd73a6ed-6b92-4f33-9332-a2d0e6b0851d",
   "metadata": {},
   "outputs": [],
   "source": []
  }
 ],
 "metadata": {
  "kernelspec": {
   "display_name": "Python [conda env:base]",
   "language": "python",
   "name": "conda-base-py"
  },
  "language_info": {
   "codemirror_mode": {
    "name": "ipython",
    "version": 3
   },
   "file_extension": ".py",
   "mimetype": "text/x-python",
   "name": "python",
   "nbconvert_exporter": "python",
   "pygments_lexer": "ipython3",
   "version": "3.12.7"
  }
 },
 "nbformat": 4,
 "nbformat_minor": 5
}
